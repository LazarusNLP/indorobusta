{
 "cells": [
  {
   "cell_type": "code",
   "execution_count": 6,
   "id": "7f54ae80-7435-4685-9f70-c9c4579ab846",
   "metadata": {},
   "outputs": [
    {
     "name": "stderr",
     "output_type": "stream",
     "text": [
      "Reusing dataset indonlu (/home/m13518040/.cache/huggingface/datasets/indonlu/smsa/1.0.0/0a83b181cd831cd5d9c15ffe39f3be76af23407eba2c902bccca53fa905d68af)\n",
      "Reusing dataset indonlu (/home/m13518040/.cache/huggingface/datasets/indonlu/emot/1.0.0/0a83b181cd831cd5d9c15ffe39f3be76af23407eba2c902bccca53fa905d68af)\n"
     ]
    }
   ],
   "source": [
    "from datasets import load_dataset\n",
    "\n",
    "\n",
    "dataset_smsa = load_dataset('indonlu', 'smsa')\n",
    "dataset_emot = load_dataset('indonlu', 'emot')"
   ]
  },
  {
   "cell_type": "code",
   "execution_count": 8,
   "id": "c0c57266-b21a-4aaa-b847-ef38887a0162",
   "metadata": {},
   "outputs": [
    {
     "data": {
      "text/plain": [
       "Dataset({\n",
       "    features: ['text', 'label'],\n",
       "    num_rows: 11000\n",
       "})"
      ]
     },
     "execution_count": 8,
     "metadata": {},
     "output_type": "execute_result"
    }
   ],
   "source": [
    "dataset_smsa['train']"
   ]
  },
  {
   "cell_type": "code",
   "execution_count": null,
   "id": "18e7ab02-cd89-4fc9-a27e-874d2bfd951c",
   "metadata": {},
   "outputs": [],
   "source": [
    "def load_dataset_loader(dataset_id, ds_type, tokenizer):\n",
    "    dataset_path = None\n",
    "    dataset = None\n",
    "    loader = None\n",
    "    if(dataset_id == 'sentiment'):\n",
    "        if(ds_type == \"train\"):\n",
    "            dataset_path = './dataset/smsa-document-sentiment/train_preprocess.tsv'\n",
    "            dataset = DocumentSentimentDataset(dataset_path, tokenizer, lowercase=True)\n",
    "            loader = DocumentSentimentDataLoader(dataset=dataset, max_seq_len=512, batch_size=32, num_workers=16, shuffle=True)  \n",
    "        elif(ds_type == \"valid\"):\n",
    "            dataset_path = './dataset/smsa-document-sentiment/valid_preprocess.tsv'\n",
    "            dataset = DocumentSentimentDataset(dataset_path, tokenizer, lowercase=True)\n",
    "            loader = DocumentSentimentDataLoader(dataset=dataset, max_seq_len=512, batch_size=32, num_workers=16, shuffle=False)\n",
    "        elif(ds_type == \"test\"):\n",
    "            dataset_path = './dataset/smsa-document-sentiment/test_preprocess_masked_label.tsv'\n",
    "            dataset = DocumentSentimentDataset(dataset_path, tokenizer, lowercase=True)\n",
    "            loader = DocumentSentimentDataLoader(dataset=dataset, max_seq_len=512, batch_size=32, num_workers=16, shuffle=False)\n",
    "\n",
    "    elif(dataset_id == 'emotion'):\n",
    "        if(ds_type == \"train\"):\n",
    "            dataset_path = './dataset/emot-emotion-twitter/train_preprocess.csv'\n",
    "            dataset = EmotionDetectionDataset(dataset_path, tokenizer, lowercase=True)\n",
    "            loader = EmotionDetectionDataLoader(dataset=dataset, max_seq_len=512, batch_size=32, num_workers=16, shuffle=True)  \n",
    "        elif(ds_type == \"valid\"):\n",
    "            dataset_path = './dataset/emot-emotion-twitter/train_preprocess.csv'\n",
    "            dataset = EmotionDetectionDataset(dataset_path, tokenizer, lowercase=True)\n",
    "            loader = EmotionDetectionDataLoader(dataset=dataset, max_seq_len=512, batch_size=32, num_workers=16, shuffle=False)\n",
    "        elif(ds_type == \"test\"):\n",
    "            dataset_path = './dataset/emot-emotion-twitter/valid_preprocess.csv'\n",
    "            dataset = EmotionDetectionDataset(dataset_path, tokenizer, lowercase=True)\n",
    "            loader = EmotionDetectionDataLoader(dataset=dataset, max_seq_len=512, batch_size=32, num_workers=16, shuffle=False)\n",
    "\n",
    "    return dataset, loader"
   ]
  },
  {
   "cell_type": "code",
   "execution_count": null,
   "id": "8df51c39-f916-46af-a603-1036aa55e8c7",
   "metadata": {},
   "outputs": [],
   "source": [
    "def init_model(id_model):\n",
    "    if id_model == \"IndoBERT\":\n",
    "        tokenizer = BertTokenizer.from_pretrained('indobenchmark/indobert-base-p2')\n",
    "        config = BertConfig.from_pretrained('indobenchmark/indobert-base-p2')\n",
    "        config.num_labels = DocumentSentimentDataset.NUM_LABELS\n",
    "        model = BertForSequenceClassification.from_pretrained('indobenchmark/indobert-base-p2', config=config)\n",
    "    elif id_model == \"XLM-R\":\n",
    "        tokenizer = XLMRobertaTokenizer.from_pretrained('xlm-roberta-base')\n",
    "        config = XLMRobertaConfig.from_pretrained(\"xlm-roberta-base\")\n",
    "        config.num_labels = DocumentSentimentDataset.NUM_LABELS\n",
    "        model = XLMRobertaForSequenceClassification.from_pretrained('xlm-roberta-base', config=config)\n",
    "    elif id_model == \"mBERT\":\n",
    "        tokenizer = BertTokenizer.from_pretrained('bert-base-multilingual-uncased')\n",
    "        config = BertConfig.from_pretrained(\"bert-base-multilingual-uncased\")\n",
    "        config.num_labels = DocumentSentimentDataset.NUM_LABELS\n",
    "        model = BertForSequenceClassification.from_pretrained('bert-base-multilingual-uncased', config=config)\n",
    "\n",
    "    return tokenizer, config, model\n",
    "\n",
    "def fine_tuning_model(base_model, i2w, train_loader, valid_loader, epochs=5):\n",
    "    optimizer = optim.Adam(base_model.parameters(), lr=3e-6)\n",
    "    base_model = base_model.cuda()\n",
    "    \n",
    "    # Train\n",
    "    n_epochs = epochs\n",
    "    for epoch in range(n_epochs):\n",
    "        base_model.train()\n",
    "        torch.set_grad_enabled(True)\n",
    "\n",
    "        total_train_loss = 0\n",
    "        list_hyp, list_label = [], []\n",
    "\n",
    "        train_pbar = tqdm(train_loader, leave=True, total=len(train_loader))\n",
    "        for i, batch_data in enumerate(train_pbar):\n",
    "            # Forward base_model\n",
    "            loss, batch_hyp, batch_label = forward_sequence_classification(base_model, batch_data[:-1], i2w=i2w, device='cuda')\n",
    "\n",
    "            # Update base_model\n",
    "            optimizer.zero_grad()\n",
    "            loss.backward()\n",
    "            optimizer.step()\n",
    "\n",
    "            tr_loss = loss.item()\n",
    "            total_train_loss = total_train_loss + tr_loss\n",
    "\n",
    "            # Calculate metrics\n",
    "            list_hyp += batch_hyp\n",
    "            list_label += batch_label\n",
    "\n",
    "            train_pbar.set_description(\"(Epoch {}) TRAIN LOSS:{:.4f} LR:{:.8f}\".format((epoch+1),\n",
    "                total_train_loss/(i+1), get_lr(optimizer)))\n",
    "\n",
    "        # Calculate train metric\n",
    "        metrics = document_sentiment_metrics_fn(list_hyp, list_label)\n",
    "        print(\"(Epoch {}) TRAIN LOSS:{:.4f} {} LR:{:.8f}\".format((epoch+1),\n",
    "            total_train_loss/(i+1), metrics_to_string(metrics), get_lr(optimizer)))\n",
    "\n",
    "        # Evaluate on validation\n",
    "        base_model.eval()\n",
    "        torch.set_grad_enabled(False)\n",
    "\n",
    "        total_loss, total_correct, total_labels = 0, 0, 0\n",
    "        list_hyp, list_label = [], []\n",
    "\n",
    "        pbar = tqdm(valid_loader, leave=True, total=len(valid_loader))\n",
    "        for i, batch_data in enumerate(pbar):\n",
    "            batch_seq = batch_data[-1]        \n",
    "            loss, batch_hyp, batch_label = forward_sequence_classification(base_model, batch_data[:-1], i2w=i2w, device='cuda')\n",
    "\n",
    "            # Calculate total loss\n",
    "            valid_loss = loss.item()\n",
    "            total_loss = total_loss + valid_loss\n",
    "\n",
    "            # Calculate evaluation metrics\n",
    "            list_hyp += batch_hyp\n",
    "            list_label += batch_label\n",
    "            metrics = document_sentiment_metrics_fn(list_hyp, list_label)\n",
    "\n",
    "            pbar.set_description(\"VALID LOSS:{:.4f} {}\".format(total_loss/(i+1), metrics_to_string(metrics)))\n",
    "\n",
    "        metrics = document_sentiment_metrics_fn(list_hyp, list_label)\n",
    "        print(\"(Epoch {}) VALID LOSS:{:.4f} {}\".format((epoch+1),\n",
    "            total_loss/(i+1), metrics_to_string(metrics)))\n",
    "    return base_model"
   ]
  },
  {
   "cell_type": "code",
   "execution_count": null,
   "id": "cce78df8-e361-402f-889a-e8e91b6fd52e",
   "metadata": {},
   "outputs": [],
   "source": [
    "tokenizer, config, model = init_model(\"IndoBERT\")\n",
    "finetuned_model = "
   ]
  }
 ],
 "metadata": {
  "kernelspec": {
   "display_name": "Python 3 (ipykernel)",
   "language": "python",
   "name": "python3"
  },
  "language_info": {
   "codemirror_mode": {
    "name": "ipython",
    "version": 3
   },
   "file_extension": ".py",
   "mimetype": "text/x-python",
   "name": "python",
   "nbconvert_exporter": "python",
   "pygments_lexer": "ipython3",
   "version": "3.8.10"
  }
 },
 "nbformat": 4,
 "nbformat_minor": 5
}
