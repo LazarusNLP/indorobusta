{
 "cells": [
  {
   "cell_type": "code",
   "execution_count": 6,
   "metadata": {
    "_cell_guid": "e8f79139-a9d1-4165-bc15-afa4cffadffa",
    "_uuid": "bc3ff7e4-d6f3-4dff-adb1-2e008a297636",
    "collapsed": false,
    "jupyter": {
     "outputs_hidden": false
    },
    "tags": []
   },
   "outputs": [],
   "source": [
    "import os, sys\n",
    "import gc\n",
    "\n",
    "gc.collect()\n",
    "os.environ['CUDA_LAUNCH_BLOCKING'] = \"1\"\n",
    "os.environ[\"CUDA_VISIBLE_DEVICES\"] = \"0,1\"  \n",
    "\n",
    "from main import main\n",
    "# import main\n",
    "\n",
    "from tqdm.notebook import tqdm\n",
    "tqdm.pandas()"
   ]
  },
  {
   "cell_type": "code",
   "execution_count": 8,
   "metadata": {
    "_cell_guid": "ca6f4edd-2b8f-4a31-a38a-04f17f5ed503",
    "_uuid": "659d5919-b3ed-45a4-b635-2b7579d0f919",
    "collapsed": false,
    "jupyter": {
     "outputs_hidden": false
    },
    "tags": []
   },
   "outputs": [
    {
     "name": "stderr",
     "output_type": "stream",
     "text": [
      "2022-03-04 12:31:57.138627: W tensorflow/core/common_runtime/gpu/gpu_device.cc:1850] Cannot dlopen some GPU libraries. Please make sure the missing libraries mentioned above are installed properly if you would like to use GPU. Follow the guide at https://www.tensorflow.org/install/gpu for how to download and setup the required libraries for your platform.\n",
      "Skipping registering GPU devices...\n",
      "Some weights of BertForSequenceClassification were not initialized from the model checkpoint at indobenchmark/indobert-base-p2 and are newly initialized: ['classifier.bias', 'classifier.weight']\n",
      "You should probably TRAIN this model on a down-stream task to be able to use it for predictions and inference.\n",
      "(Epoch 1) TRAIN LOSS:0.3491 LR:0.00000300: 100%|██████████████████| 344/344 [01:20<00:00,  4.27it/s]\n"
     ]
    },
    {
     "name": "stdout",
     "output_type": "stream",
     "text": [
      "(Epoch 1) TRAIN LOSS:0.3491 ACC:0.87 F1:0.82 REC:0.79 PRE:0.85 LR:0.00000300\n"
     ]
    },
    {
     "name": "stderr",
     "output_type": "stream",
     "text": [
      "VALID LOSS:0.1921 ACC:0.93 F1:0.90 REC:0.89 PRE:0.90: 100%|█████████| 40/40 [00:05<00:00,  7.78it/s]\n"
     ]
    },
    {
     "name": "stdout",
     "output_type": "stream",
     "text": [
      "(Epoch 1) VALID LOSS:0.1921 ACC:0.93 F1:0.90 REC:0.89 PRE:0.90\n"
     ]
    },
    {
     "name": "stderr",
     "output_type": "stream",
     "text": [
      "INFO:absl:Unable to initialize backend 'tpu_driver': NOT_FOUND: Unable to find driver in registry given worker: \n",
      "INFO:absl:Unable to initialize backend 'gpu': NOT_FOUND: Could not find registered platform with name: \"cuda\". Available platform names are: Host Interpreter\n",
      "INFO:absl:Unable to initialize backend 'tpu': INVALID_ARGUMENT: TpuPlatform is not available.\n",
      "WARNING:absl:No GPU/TPU found, falling back to CPU. (Set TF_CPP_MIN_LOG_LEVEL=0 and rerun for more info.)\n",
      "ic| type(perturbed_text): <class 'str'>\n",
      "ic| type(perturbed_semantic_sim): <class 'jaxlib.xla_extension.DeviceArray'>\n",
      "ic| type(orig_label): <class 'int'>\n",
      "ic| type(orig_probs): <class 'numpy.ndarray'>\n",
      "ic| type(perturbed_label): <class 'int'>\n",
      "ic| type(perturbed_probs): <class 'numpy.ndarray'>\n",
      "ic| type(translated_words): <class 'dict'>\n",
      "ic| type(running_time): <class 'float'>\n",
      "ic| type(perturbed_text): <class 'str'>\n",
      "ic| type(perturbed_semantic_sim): <class 'jaxlib.xla_extension.DeviceArray'>\n",
      "ic| type(orig_label): <class 'int'>\n",
      "ic| type(orig_probs): <class 'numpy.ndarray'>\n",
      "ic| type(perturbed_label): <class 'int'>\n",
      "ic| type(perturbed_probs): <class 'numpy.ndarray'>\n",
      "ic| type(translated_words): <class 'dict'>\n",
      "ic| type(running_time): <class 'float'>\n"
     ]
    }
   ],
   "source": [
    "if __name__ == \"__main__\":\n",
    "    main(\n",
    "        model_target=\"IndoBERT\", # IndoBERT, XLM-R, mBERT\n",
    "        downstream_task=\"sentiment\", # sentiment, emotion\n",
    "        attack_strategy=\"adversarial\", # codemixing, synonym replacement\n",
    "        perturbation_technique=\"codemixing\", # adversarial, random\n",
    "        perturb_ratio=0.4, # 0.2, 0.4, 0.6, 0.8\n",
    "        finetune_epoch=1,\n",
    "        num_sample=2,\n",
    "        exp_name=\"fixx\",\n",
    "        perturb_lang=\"en\",\n",
    "        seed=26092020\n",
    "    )\n",
    "    "
   ]
  },
  {
   "cell_type": "code",
   "execution_count": 10,
   "metadata": {},
   "outputs": [
    {
     "name": "stdout",
     "output_type": "stream",
     "text": [
      "Defaulting to user installation because normal site-packages is not writeable\n",
      "Requirement already satisfied: conlleval in /home/m13518040/.local/lib/python3.8/site-packages (0.2)\n",
      "WARNING:tensorflow:From /home/m13518040/.local/lib/python3.8/site-packages/tensorflow/python/compat/v2_compat.py:107: disable_resource_variables (from tensorflow.python.ops.variable_scope) is deprecated and will be removed in a future version.\n",
      "Instructions for updating:\n",
      "non-resource variables are not supported in the long term\n",
      "[nltk_data] Downloading package stopwords to\n",
      "[nltk_data]     /home/m13518040/nltk_data...\n",
      "[nltk_data]   Package stopwords is already up-to-date!\n",
      "[nltk_data] Downloading package punkt to /home/m13518040/nltk_data...\n",
      "[nltk_data]   Package punkt is already up-to-date!\n",
      "[nltk_data] Downloading package omw to /home/m13518040/nltk_data...\n",
      "[nltk_data]   Unzipping corpora/omw.zip.\n",
      "[nltk_data] Downloading package stopwords to\n",
      "[nltk_data]     /home/m13518040/nltk_data...\n",
      "[nltk_data]   Package stopwords is already up-to-date!\n",
      "INFO:absl:Using /tmp/tfhub_modules to cache modules.\n",
      "2022-03-04 12:41:37.791523: W tensorflow/stream_executor/platform/default/dso_loader.cc:64] Could not load dynamic library 'libcusolver.so.11'; dlerror: libcusolver.so.11: cannot open shared object file: No such file or directory; LD_LIBRARY_PATH: /usr/local/cuda/lib:/usr/local/cuda/lib\n",
      "2022-03-04 12:41:37.792322: W tensorflow/core/common_runtime/gpu/gpu_device.cc:1850] Cannot dlopen some GPU libraries. Please make sure the missing libraries mentioned above are installed properly if you would like to use GPU. Follow the guide at https://www.tensorflow.org/install/gpu for how to download and setup the required libraries for your platform.\n",
      "Skipping registering GPU devices...\n",
      "2022-03-04 12:41:38.837997: W tensorflow/core/common_runtime/gpu/gpu_device.cc:1850] Cannot dlopen some GPU libraries. Please make sure the missing libraries mentioned above are installed properly if you would like to use GPU. Follow the guide at https://www.tensorflow.org/install/gpu for how to download and setup the required libraries for your platform.\n",
      "Skipping registering GPU devices...\n",
      "Some weights of the model checkpoint at xlm-roberta-base were not used when initializing XLMRobertaForSequenceClassification: ['lm_head.bias', 'roberta.pooler.dense.bias', 'lm_head.dense.bias', 'lm_head.layer_norm.bias', 'lm_head.dense.weight', 'lm_head.layer_norm.weight', 'roberta.pooler.dense.weight', 'lm_head.decoder.weight']\n",
      "- This IS expected if you are initializing XLMRobertaForSequenceClassification from the checkpoint of a model trained on another task or with another architecture (e.g. initializing a BertForSequenceClassification model from a BertForPreTraining model).\n",
      "- This IS NOT expected if you are initializing XLMRobertaForSequenceClassification from the checkpoint of a model that you expect to be exactly identical (initializing a BertForSequenceClassification model from a BertForSequenceClassification model).\n",
      "Some weights of XLMRobertaForSequenceClassification were not initialized from the model checkpoint at xlm-roberta-base and are newly initialized: ['classifier.out_proj.weight', 'classifier.dense.weight', 'classifier.out_proj.bias', 'classifier.dense.bias']\n",
      "You should probably TRAIN this model on a down-stream task to be able to use it for predictions and inference.\n",
      "(Epoch 1) TRAIN LOSS:0.6253 LR:0.00000300: 100%|█| 344/344 [02:01<00:00,  2.84it\n",
      "(Epoch 1) TRAIN LOSS:0.6253 ACC:0.74 F1:0.54 REC:0.54 PRE:0.63 LR:0.00000300\n",
      "VALID LOSS:0.3300 ACC:0.87 F1:0.78 REC:0.76 PRE:0.86: 100%|█| 40/40 [00:04<00:00\n",
      "(Epoch 1) VALID LOSS:0.3300 ACC:0.87 F1:0.78 REC:0.76 PRE:0.86\n",
      "/home/m13518040/tugas-akhir-repository/attack/adv_attack.py:68: UserWarning: Creating a tensor from a list of numpy.ndarrays is extremely slow. Please consider converting the list to a single numpy.ndarray with numpy.array() before converting to a tensor. (Triggered internally at  ../torch/csrc/utils/tensor_new.cpp:201.)\n",
      "  leave_1_probs = torch.tensor(leave_1_probs).to(\"cuda:1\")\n",
      "INFO:absl:Unable to initialize backend 'tpu_driver': NOT_FOUND: Unable to find driver in registry given worker: \n",
      "INFO:absl:Unable to initialize backend 'gpu': NOT_FOUND: Could not find registered platform with name: \"cuda\". Available platform names are: Interpreter Host\n",
      "INFO:absl:Unable to initialize backend 'tpu': INVALID_ARGUMENT: TpuPlatform is not available.\n",
      "WARNING:absl:No GPU/TPU found, falling back to CPU. (Set TF_CPP_MIN_LOG_LEVEL=0 and rerun for more info.)\n",
      "\u001b[38;5;247mic\u001b[39m\u001b[38;5;245m|\u001b[39m\u001b[38;5;245m \u001b[39m\u001b[38;5;32mtype\u001b[39m\u001b[38;5;245m(\u001b[39m\u001b[38;5;247mperturbed_text\u001b[39m\u001b[38;5;245m)\u001b[39m\u001b[38;5;245m:\u001b[39m\u001b[38;5;245m \u001b[39m\u001b[38;5;245m<\u001b[39m\u001b[38;5;100mclass\u001b[39m\u001b[38;5;245m \u001b[39m\u001b[38;5;166m'\u001b[39m\u001b[38;5;32mstr\u001b[39m\u001b[38;5;36m'\u001b[39m\u001b[38;5;36m>\u001b[39m\n",
      "\u001b[38;5;247mic\u001b[39m\u001b[38;5;245m|\u001b[39m\u001b[38;5;245m \u001b[39m\u001b[38;5;32mtype\u001b[39m\u001b[38;5;245m(\u001b[39m\u001b[38;5;247mperturbed_semantic_sim\u001b[39m\u001b[38;5;245m)\u001b[39m\u001b[38;5;245m:\u001b[39m\u001b[38;5;245m \u001b[39m\u001b[38;5;245m<\u001b[39m\u001b[38;5;100mclass\u001b[39m\u001b[38;5;245m \u001b[39m\u001b[38;5;166m'\u001b[39m\u001b[38;5;32mjaxlib\u001b[39m\u001b[38;5;245m.\u001b[39m\u001b[38;5;247mxla_extension\u001b[39m\u001b[38;5;245m.\u001b[39m\u001b[38;5;247mDeviceArray\u001b[39m\u001b[38;5;36m'\u001b[39m\u001b[38;5;36m>\u001b[39m\n",
      "\u001b[38;5;247mic\u001b[39m\u001b[38;5;245m|\u001b[39m\u001b[38;5;245m \u001b[39m\u001b[38;5;32mtype\u001b[39m\u001b[38;5;245m(\u001b[39m\u001b[38;5;247morig_label\u001b[39m\u001b[38;5;245m)\u001b[39m\u001b[38;5;245m:\u001b[39m\u001b[38;5;245m \u001b[39m\u001b[38;5;245m<\u001b[39m\u001b[38;5;100mclass\u001b[39m\u001b[38;5;245m \u001b[39m\u001b[38;5;166m'\u001b[39m\u001b[38;5;32mint\u001b[39m\u001b[38;5;36m'\u001b[39m\u001b[38;5;36m>\u001b[39m\n",
      "\u001b[38;5;247mic\u001b[39m\u001b[38;5;245m|\u001b[39m\u001b[38;5;245m \u001b[39m\u001b[38;5;32mtype\u001b[39m\u001b[38;5;245m(\u001b[39m\u001b[38;5;247morig_probs\u001b[39m\u001b[38;5;245m)\u001b[39m\u001b[38;5;245m:\u001b[39m\u001b[38;5;245m \u001b[39m\u001b[38;5;245m<\u001b[39m\u001b[38;5;100mclass\u001b[39m\u001b[38;5;245m \u001b[39m\u001b[38;5;166m'\u001b[39m\u001b[38;5;32mnumpy\u001b[39m\u001b[38;5;245m.\u001b[39m\u001b[38;5;247mndarray\u001b[39m\u001b[38;5;36m'\u001b[39m\u001b[38;5;36m>\u001b[39m\n",
      "\u001b[38;5;247mic\u001b[39m\u001b[38;5;245m|\u001b[39m\u001b[38;5;245m \u001b[39m\u001b[38;5;32mtype\u001b[39m\u001b[38;5;245m(\u001b[39m\u001b[38;5;247mperturbed_label\u001b[39m\u001b[38;5;245m)\u001b[39m\u001b[38;5;245m:\u001b[39m\u001b[38;5;245m \u001b[39m\u001b[38;5;245m<\u001b[39m\u001b[38;5;100mclass\u001b[39m\u001b[38;5;245m \u001b[39m\u001b[38;5;166m'\u001b[39m\u001b[38;5;32mint\u001b[39m\u001b[38;5;36m'\u001b[39m\u001b[38;5;36m>\u001b[39m\n",
      "\u001b[38;5;247mic\u001b[39m\u001b[38;5;245m|\u001b[39m\u001b[38;5;245m \u001b[39m\u001b[38;5;32mtype\u001b[39m\u001b[38;5;245m(\u001b[39m\u001b[38;5;247mperturbed_probs\u001b[39m\u001b[38;5;245m)\u001b[39m\u001b[38;5;245m:\u001b[39m\u001b[38;5;245m \u001b[39m\u001b[38;5;245m<\u001b[39m\u001b[38;5;100mclass\u001b[39m\u001b[38;5;245m \u001b[39m\u001b[38;5;166m'\u001b[39m\u001b[38;5;32mnumpy\u001b[39m\u001b[38;5;245m.\u001b[39m\u001b[38;5;247mndarray\u001b[39m\u001b[38;5;36m'\u001b[39m\u001b[38;5;36m>\u001b[39m\n",
      "\u001b[38;5;247mic\u001b[39m\u001b[38;5;245m|\u001b[39m\u001b[38;5;245m \u001b[39m\u001b[38;5;32mtype\u001b[39m\u001b[38;5;245m(\u001b[39m\u001b[38;5;247mtranslated_words\u001b[39m\u001b[38;5;245m)\u001b[39m\u001b[38;5;245m:\u001b[39m\u001b[38;5;245m \u001b[39m\u001b[38;5;245m<\u001b[39m\u001b[38;5;100mclass\u001b[39m\u001b[38;5;245m \u001b[39m\u001b[38;5;166m'\u001b[39m\u001b[38;5;32mdict\u001b[39m\u001b[38;5;36m'\u001b[39m\u001b[38;5;36m>\u001b[39m\n",
      "\u001b[38;5;247mic\u001b[39m\u001b[38;5;245m|\u001b[39m\u001b[38;5;245m \u001b[39m\u001b[38;5;32mtype\u001b[39m\u001b[38;5;245m(\u001b[39m\u001b[38;5;247mrunning_time\u001b[39m\u001b[38;5;245m)\u001b[39m\u001b[38;5;245m:\u001b[39m\u001b[38;5;245m \u001b[39m\u001b[38;5;245m<\u001b[39m\u001b[38;5;100mclass\u001b[39m\u001b[38;5;245m \u001b[39m\u001b[38;5;166m'\u001b[39m\u001b[38;5;32mfloat\u001b[39m\u001b[38;5;36m'\u001b[39m\u001b[38;5;36m>\u001b[39m\n",
      "\u001b[38;5;247mic\u001b[39m\u001b[38;5;245m|\u001b[39m\u001b[38;5;245m \u001b[39m\u001b[38;5;32mtype\u001b[39m\u001b[38;5;245m(\u001b[39m\u001b[38;5;247mperturbed_text\u001b[39m\u001b[38;5;245m)\u001b[39m\u001b[38;5;245m:\u001b[39m\u001b[38;5;245m \u001b[39m\u001b[38;5;245m<\u001b[39m\u001b[38;5;100mclass\u001b[39m\u001b[38;5;245m \u001b[39m\u001b[38;5;166m'\u001b[39m\u001b[38;5;32mstr\u001b[39m\u001b[38;5;36m'\u001b[39m\u001b[38;5;36m>\u001b[39m\n",
      "\u001b[38;5;247mic\u001b[39m\u001b[38;5;245m|\u001b[39m\u001b[38;5;245m \u001b[39m\u001b[38;5;32mtype\u001b[39m\u001b[38;5;245m(\u001b[39m\u001b[38;5;247mperturbed_semantic_sim\u001b[39m\u001b[38;5;245m)\u001b[39m\u001b[38;5;245m:\u001b[39m\u001b[38;5;245m \u001b[39m\u001b[38;5;245m<\u001b[39m\u001b[38;5;100mclass\u001b[39m\u001b[38;5;245m \u001b[39m\u001b[38;5;166m'\u001b[39m\u001b[38;5;32mjaxlib\u001b[39m\u001b[38;5;245m.\u001b[39m\u001b[38;5;247mxla_extension\u001b[39m\u001b[38;5;245m.\u001b[39m\u001b[38;5;247mDeviceArray\u001b[39m\u001b[38;5;36m'\u001b[39m\u001b[38;5;36m>\u001b[39m\n",
      "\u001b[38;5;247mic\u001b[39m\u001b[38;5;245m|\u001b[39m\u001b[38;5;245m \u001b[39m\u001b[38;5;32mtype\u001b[39m\u001b[38;5;245m(\u001b[39m\u001b[38;5;247morig_label\u001b[39m\u001b[38;5;245m)\u001b[39m\u001b[38;5;245m:\u001b[39m\u001b[38;5;245m \u001b[39m\u001b[38;5;245m<\u001b[39m\u001b[38;5;100mclass\u001b[39m\u001b[38;5;245m \u001b[39m\u001b[38;5;166m'\u001b[39m\u001b[38;5;32mint\u001b[39m\u001b[38;5;36m'\u001b[39m\u001b[38;5;36m>\u001b[39m\n",
      "\u001b[38;5;247mic\u001b[39m\u001b[38;5;245m|\u001b[39m\u001b[38;5;245m \u001b[39m\u001b[38;5;32mtype\u001b[39m\u001b[38;5;245m(\u001b[39m\u001b[38;5;247morig_probs\u001b[39m\u001b[38;5;245m)\u001b[39m\u001b[38;5;245m:\u001b[39m\u001b[38;5;245m \u001b[39m\u001b[38;5;245m<\u001b[39m\u001b[38;5;100mclass\u001b[39m\u001b[38;5;245m \u001b[39m\u001b[38;5;166m'\u001b[39m\u001b[38;5;32mnumpy\u001b[39m\u001b[38;5;245m.\u001b[39m\u001b[38;5;247mndarray\u001b[39m\u001b[38;5;36m'\u001b[39m\u001b[38;5;36m>\u001b[39m\n",
      "\u001b[38;5;247mic\u001b[39m\u001b[38;5;245m|\u001b[39m\u001b[38;5;245m \u001b[39m\u001b[38;5;32mtype\u001b[39m\u001b[38;5;245m(\u001b[39m\u001b[38;5;247mperturbed_label\u001b[39m\u001b[38;5;245m)\u001b[39m\u001b[38;5;245m:\u001b[39m\u001b[38;5;245m \u001b[39m\u001b[38;5;245m<\u001b[39m\u001b[38;5;100mclass\u001b[39m\u001b[38;5;245m \u001b[39m\u001b[38;5;166m'\u001b[39m\u001b[38;5;32mint\u001b[39m\u001b[38;5;36m'\u001b[39m\u001b[38;5;36m>\u001b[39m\n",
      "\u001b[38;5;247mic\u001b[39m\u001b[38;5;245m|\u001b[39m\u001b[38;5;245m \u001b[39m\u001b[38;5;32mtype\u001b[39m\u001b[38;5;245m(\u001b[39m\u001b[38;5;247mperturbed_probs\u001b[39m\u001b[38;5;245m)\u001b[39m\u001b[38;5;245m:\u001b[39m\u001b[38;5;245m \u001b[39m\u001b[38;5;245m<\u001b[39m\u001b[38;5;100mclass\u001b[39m\u001b[38;5;245m \u001b[39m\u001b[38;5;166m'\u001b[39m\u001b[38;5;32mnumpy\u001b[39m\u001b[38;5;245m.\u001b[39m\u001b[38;5;247mndarray\u001b[39m\u001b[38;5;36m'\u001b[39m\u001b[38;5;36m>\u001b[39m\n",
      "\u001b[38;5;247mic\u001b[39m\u001b[38;5;245m|\u001b[39m\u001b[38;5;245m \u001b[39m\u001b[38;5;32mtype\u001b[39m\u001b[38;5;245m(\u001b[39m\u001b[38;5;247mtranslated_words\u001b[39m\u001b[38;5;245m)\u001b[39m\u001b[38;5;245m:\u001b[39m\u001b[38;5;245m \u001b[39m\u001b[38;5;245m<\u001b[39m\u001b[38;5;100mclass\u001b[39m\u001b[38;5;245m \u001b[39m\u001b[38;5;166m'\u001b[39m\u001b[38;5;32mdict\u001b[39m\u001b[38;5;36m'\u001b[39m\u001b[38;5;36m>\u001b[39m\n",
      "\u001b[38;5;247mic\u001b[39m\u001b[38;5;245m|\u001b[39m\u001b[38;5;245m \u001b[39m\u001b[38;5;32mtype\u001b[39m\u001b[38;5;245m(\u001b[39m\u001b[38;5;247mrunning_time\u001b[39m\u001b[38;5;245m)\u001b[39m\u001b[38;5;245m:\u001b[39m\u001b[38;5;245m \u001b[39m\u001b[38;5;245m<\u001b[39m\u001b[38;5;100mclass\u001b[39m\u001b[38;5;245m \u001b[39m\u001b[38;5;166m'\u001b[39m\u001b[38;5;32mfloat\u001b[39m\u001b[38;5;36m'\u001b[39m\u001b[38;5;36m>\u001b[39m\n",
      "\u001b[38;5;247mic\u001b[39m\u001b[38;5;245m|\u001b[39m\u001b[38;5;245m \u001b[39m\u001b[38;5;32mtype\u001b[39m\u001b[38;5;245m(\u001b[39m\u001b[38;5;247mperturbed_text\u001b[39m\u001b[38;5;245m)\u001b[39m\u001b[38;5;245m:\u001b[39m\u001b[38;5;245m \u001b[39m\u001b[38;5;245m<\u001b[39m\u001b[38;5;100mclass\u001b[39m\u001b[38;5;245m \u001b[39m\u001b[38;5;166m'\u001b[39m\u001b[38;5;32mstr\u001b[39m\u001b[38;5;36m'\u001b[39m\u001b[38;5;36m>\u001b[39m\n",
      "\u001b[38;5;247mic\u001b[39m\u001b[38;5;245m|\u001b[39m\u001b[38;5;245m \u001b[39m\u001b[38;5;32mtype\u001b[39m\u001b[38;5;245m(\u001b[39m\u001b[38;5;247mperturbed_semantic_sim\u001b[39m\u001b[38;5;245m)\u001b[39m\u001b[38;5;245m:\u001b[39m\u001b[38;5;245m \u001b[39m\u001b[38;5;245m<\u001b[39m\u001b[38;5;100mclass\u001b[39m\u001b[38;5;245m \u001b[39m\u001b[38;5;166m'\u001b[39m\u001b[38;5;32mjaxlib\u001b[39m\u001b[38;5;245m.\u001b[39m\u001b[38;5;247mxla_extension\u001b[39m\u001b[38;5;245m.\u001b[39m\u001b[38;5;247mDeviceArray\u001b[39m\u001b[38;5;36m'\u001b[39m\u001b[38;5;36m>\u001b[39m\n",
      "\u001b[38;5;247mic\u001b[39m\u001b[38;5;245m|\u001b[39m\u001b[38;5;245m \u001b[39m\u001b[38;5;32mtype\u001b[39m\u001b[38;5;245m(\u001b[39m\u001b[38;5;247morig_label\u001b[39m\u001b[38;5;245m)\u001b[39m\u001b[38;5;245m:\u001b[39m\u001b[38;5;245m \u001b[39m\u001b[38;5;245m<\u001b[39m\u001b[38;5;100mclass\u001b[39m\u001b[38;5;245m \u001b[39m\u001b[38;5;166m'\u001b[39m\u001b[38;5;32mint\u001b[39m\u001b[38;5;36m'\u001b[39m\u001b[38;5;36m>\u001b[39m\n",
      "\u001b[38;5;247mic\u001b[39m\u001b[38;5;245m|\u001b[39m\u001b[38;5;245m \u001b[39m\u001b[38;5;32mtype\u001b[39m\u001b[38;5;245m(\u001b[39m\u001b[38;5;247morig_probs\u001b[39m\u001b[38;5;245m)\u001b[39m\u001b[38;5;245m:\u001b[39m\u001b[38;5;245m \u001b[39m\u001b[38;5;245m<\u001b[39m\u001b[38;5;100mclass\u001b[39m\u001b[38;5;245m \u001b[39m\u001b[38;5;166m'\u001b[39m\u001b[38;5;32mnumpy\u001b[39m\u001b[38;5;245m.\u001b[39m\u001b[38;5;247mndarray\u001b[39m\u001b[38;5;36m'\u001b[39m\u001b[38;5;36m>\u001b[39m\n",
      "\u001b[38;5;247mic\u001b[39m\u001b[38;5;245m|\u001b[39m\u001b[38;5;245m \u001b[39m\u001b[38;5;32mtype\u001b[39m\u001b[38;5;245m(\u001b[39m\u001b[38;5;247mperturbed_label\u001b[39m\u001b[38;5;245m)\u001b[39m\u001b[38;5;245m:\u001b[39m\u001b[38;5;245m \u001b[39m\u001b[38;5;245m<\u001b[39m\u001b[38;5;100mclass\u001b[39m\u001b[38;5;245m \u001b[39m\u001b[38;5;166m'\u001b[39m\u001b[38;5;32mint\u001b[39m\u001b[38;5;36m'\u001b[39m\u001b[38;5;36m>\u001b[39m\n",
      "\u001b[38;5;247mic\u001b[39m\u001b[38;5;245m|\u001b[39m\u001b[38;5;245m \u001b[39m\u001b[38;5;32mtype\u001b[39m\u001b[38;5;245m(\u001b[39m\u001b[38;5;247mperturbed_probs\u001b[39m\u001b[38;5;245m)\u001b[39m\u001b[38;5;245m:\u001b[39m\u001b[38;5;245m \u001b[39m\u001b[38;5;245m<\u001b[39m\u001b[38;5;100mclass\u001b[39m\u001b[38;5;245m \u001b[39m\u001b[38;5;166m'\u001b[39m\u001b[38;5;32mnumpy\u001b[39m\u001b[38;5;245m.\u001b[39m\u001b[38;5;247mndarray\u001b[39m\u001b[38;5;36m'\u001b[39m\u001b[38;5;36m>\u001b[39m\n",
      "\u001b[38;5;247mic\u001b[39m\u001b[38;5;245m|\u001b[39m\u001b[38;5;245m \u001b[39m\u001b[38;5;32mtype\u001b[39m\u001b[38;5;245m(\u001b[39m\u001b[38;5;247mtranslated_words\u001b[39m\u001b[38;5;245m)\u001b[39m\u001b[38;5;245m:\u001b[39m\u001b[38;5;245m \u001b[39m\u001b[38;5;245m<\u001b[39m\u001b[38;5;100mclass\u001b[39m\u001b[38;5;245m \u001b[39m\u001b[38;5;166m'\u001b[39m\u001b[38;5;32mdict\u001b[39m\u001b[38;5;36m'\u001b[39m\u001b[38;5;36m>\u001b[39m\n",
      "\u001b[38;5;247mic\u001b[39m\u001b[38;5;245m|\u001b[39m\u001b[38;5;245m \u001b[39m\u001b[38;5;32mtype\u001b[39m\u001b[38;5;245m(\u001b[39m\u001b[38;5;247mrunning_time\u001b[39m\u001b[38;5;245m)\u001b[39m\u001b[38;5;245m:\u001b[39m\u001b[38;5;245m \u001b[39m\u001b[38;5;245m<\u001b[39m\u001b[38;5;100mclass\u001b[39m\u001b[38;5;245m \u001b[39m\u001b[38;5;166m'\u001b[39m\u001b[38;5;32mfloat\u001b[39m\u001b[38;5;36m'\u001b[39m\u001b[38;5;36m>\u001b[39m\n",
      "\u001b[38;5;247mic\u001b[39m\u001b[38;5;245m|\u001b[39m\u001b[38;5;245m \u001b[39m\u001b[38;5;32mtype\u001b[39m\u001b[38;5;245m(\u001b[39m\u001b[38;5;247mperturbed_text\u001b[39m\u001b[38;5;245m)\u001b[39m\u001b[38;5;245m:\u001b[39m\u001b[38;5;245m \u001b[39m\u001b[38;5;245m<\u001b[39m\u001b[38;5;100mclass\u001b[39m\u001b[38;5;245m \u001b[39m\u001b[38;5;166m'\u001b[39m\u001b[38;5;32mstr\u001b[39m\u001b[38;5;36m'\u001b[39m\u001b[38;5;36m>\u001b[39m\n",
      "\u001b[38;5;247mic\u001b[39m\u001b[38;5;245m|\u001b[39m\u001b[38;5;245m \u001b[39m\u001b[38;5;32mtype\u001b[39m\u001b[38;5;245m(\u001b[39m\u001b[38;5;247mperturbed_semantic_sim\u001b[39m\u001b[38;5;245m)\u001b[39m\u001b[38;5;245m:\u001b[39m\u001b[38;5;245m \u001b[39m\u001b[38;5;245m<\u001b[39m\u001b[38;5;100mclass\u001b[39m\u001b[38;5;245m \u001b[39m\u001b[38;5;166m'\u001b[39m\u001b[38;5;32mjaxlib\u001b[39m\u001b[38;5;245m.\u001b[39m\u001b[38;5;247mxla_extension\u001b[39m\u001b[38;5;245m.\u001b[39m\u001b[38;5;247mDeviceArray\u001b[39m\u001b[38;5;36m'\u001b[39m\u001b[38;5;36m>\u001b[39m\n",
      "\u001b[38;5;247mic\u001b[39m\u001b[38;5;245m|\u001b[39m\u001b[38;5;245m \u001b[39m\u001b[38;5;32mtype\u001b[39m\u001b[38;5;245m(\u001b[39m\u001b[38;5;247morig_label\u001b[39m\u001b[38;5;245m)\u001b[39m\u001b[38;5;245m:\u001b[39m\u001b[38;5;245m \u001b[39m\u001b[38;5;245m<\u001b[39m\u001b[38;5;100mclass\u001b[39m\u001b[38;5;245m \u001b[39m\u001b[38;5;166m'\u001b[39m\u001b[38;5;32mint\u001b[39m\u001b[38;5;36m'\u001b[39m\u001b[38;5;36m>\u001b[39m\n",
      "\u001b[38;5;247mic\u001b[39m\u001b[38;5;245m|\u001b[39m\u001b[38;5;245m \u001b[39m\u001b[38;5;32mtype\u001b[39m\u001b[38;5;245m(\u001b[39m\u001b[38;5;247morig_probs\u001b[39m\u001b[38;5;245m)\u001b[39m\u001b[38;5;245m:\u001b[39m\u001b[38;5;245m \u001b[39m\u001b[38;5;245m<\u001b[39m\u001b[38;5;100mclass\u001b[39m\u001b[38;5;245m \u001b[39m\u001b[38;5;166m'\u001b[39m\u001b[38;5;32mnumpy\u001b[39m\u001b[38;5;245m.\u001b[39m\u001b[38;5;247mndarray\u001b[39m\u001b[38;5;36m'\u001b[39m\u001b[38;5;36m>\u001b[39m\n",
      "\u001b[38;5;247mic\u001b[39m\u001b[38;5;245m|\u001b[39m\u001b[38;5;245m \u001b[39m\u001b[38;5;32mtype\u001b[39m\u001b[38;5;245m(\u001b[39m\u001b[38;5;247mperturbed_label\u001b[39m\u001b[38;5;245m)\u001b[39m\u001b[38;5;245m:\u001b[39m\u001b[38;5;245m \u001b[39m\u001b[38;5;245m<\u001b[39m\u001b[38;5;100mclass\u001b[39m\u001b[38;5;245m \u001b[39m\u001b[38;5;166m'\u001b[39m\u001b[38;5;32mint\u001b[39m\u001b[38;5;36m'\u001b[39m\u001b[38;5;36m>\u001b[39m\n",
      "\u001b[38;5;247mic\u001b[39m\u001b[38;5;245m|\u001b[39m\u001b[38;5;245m \u001b[39m\u001b[38;5;32mtype\u001b[39m\u001b[38;5;245m(\u001b[39m\u001b[38;5;247mperturbed_probs\u001b[39m\u001b[38;5;245m)\u001b[39m\u001b[38;5;245m:\u001b[39m\u001b[38;5;245m \u001b[39m\u001b[38;5;245m<\u001b[39m\u001b[38;5;100mclass\u001b[39m\u001b[38;5;245m \u001b[39m\u001b[38;5;166m'\u001b[39m\u001b[38;5;32mnumpy\u001b[39m\u001b[38;5;245m.\u001b[39m\u001b[38;5;247mndarray\u001b[39m\u001b[38;5;36m'\u001b[39m\u001b[38;5;36m>\u001b[39m\n",
      "\u001b[38;5;247mic\u001b[39m\u001b[38;5;245m|\u001b[39m\u001b[38;5;245m \u001b[39m\u001b[38;5;32mtype\u001b[39m\u001b[38;5;245m(\u001b[39m\u001b[38;5;247mtranslated_words\u001b[39m\u001b[38;5;245m)\u001b[39m\u001b[38;5;245m:\u001b[39m\u001b[38;5;245m \u001b[39m\u001b[38;5;245m<\u001b[39m\u001b[38;5;100mclass\u001b[39m\u001b[38;5;245m \u001b[39m\u001b[38;5;166m'\u001b[39m\u001b[38;5;32mdict\u001b[39m\u001b[38;5;36m'\u001b[39m\u001b[38;5;36m>\u001b[39m\n",
      "\u001b[38;5;247mic\u001b[39m\u001b[38;5;245m|\u001b[39m\u001b[38;5;245m \u001b[39m\u001b[38;5;32mtype\u001b[39m\u001b[38;5;245m(\u001b[39m\u001b[38;5;247mrunning_time\u001b[39m\u001b[38;5;245m)\u001b[39m\u001b[38;5;245m:\u001b[39m\u001b[38;5;245m \u001b[39m\u001b[38;5;245m<\u001b[39m\u001b[38;5;100mclass\u001b[39m\u001b[38;5;245m \u001b[39m\u001b[38;5;166m'\u001b[39m\u001b[38;5;32mfloat\u001b[39m\u001b[38;5;36m'\u001b[39m\u001b[38;5;36m>\u001b[39m\n",
      "Traceback (most recent call last):\n",
      "  File \"main.py\", line 99, in <module>\n",
      "    main(\n",
      "  File \"main.py\", line 60, in main\n",
      "    exp_dataset[['perturbed_text', 'perturbed_semantic_sim', 'pred_label', 'pred_proba', 'perturbed_label', 'perturbed_proba', 'translated_word(s)', 'running_time(s)']] = exp_dataset.apply(\n",
      "  File \"/home/m13518040/.local/lib/python3.8/site-packages/pandas/core/frame.py\", line 8740, in apply\n",
      "    return op.apply()\n",
      "  File \"/home/m13518040/.local/lib/python3.8/site-packages/pandas/core/apply.py\", line 688, in apply\n",
      "    return self.apply_standard()\n",
      "  File \"/home/m13518040/.local/lib/python3.8/site-packages/pandas/core/apply.py\", line 815, in apply_standard\n",
      "    return self.wrap_results(results, res_index)\n",
      "  File \"/home/m13518040/.local/lib/python3.8/site-packages/pandas/core/apply.py\", line 841, in wrap_results\n",
      "    return self.wrap_results_for_axis(results, res_index)\n",
      "  File \"/home/m13518040/.local/lib/python3.8/site-packages/pandas/core/apply.py\", line 979, in wrap_results_for_axis\n",
      "    result = self.infer_to_same_shape(results, res_index)\n",
      "  File \"/home/m13518040/.local/lib/python3.8/site-packages/pandas/core/apply.py\", line 994, in infer_to_same_shape\n",
      "    result = self.obj._constructor(data=results)\n",
      "  File \"/home/m13518040/.local/lib/python3.8/site-packages/pandas/core/frame.py\", line 614, in __init__\n",
      "    mgr = dict_to_mgr(data, index, columns, dtype=dtype, copy=copy, typ=manager)\n",
      "  File \"/home/m13518040/.local/lib/python3.8/site-packages/pandas/core/internals/construction.py\", line 464, in dict_to_mgr\n",
      "    return arrays_to_mgr(\n",
      "  File \"/home/m13518040/.local/lib/python3.8/site-packages/pandas/core/internals/construction.py\", line 124, in arrays_to_mgr\n",
      "    arrays = _homogenize(arrays, index, dtype)\n",
      "  File \"/home/m13518040/.local/lib/python3.8/site-packages/pandas/core/internals/construction.py\", line 589, in _homogenize\n",
      "    val = sanitize_array(\n",
      "  File \"/home/m13518040/.local/lib/python3.8/site-packages/pandas/core/construction.py\", line 571, in sanitize_array\n",
      "    subarr = maybe_convert_platform(data)\n",
      "  File \"/home/m13518040/.local/lib/python3.8/site-packages/pandas/core/dtypes/cast.py\", line 118, in maybe_convert_platform\n",
      "    arr = construct_1d_object_array_from_listlike(values)\n",
      "  File \"/home/m13518040/.local/lib/python3.8/site-packages/pandas/core/dtypes/cast.py\", line 1990, in construct_1d_object_array_from_listlike\n",
      "    result[:] = values\n",
      "  File \"/home/m13518040/.local/lib/python3.8/site-packages/torch/_tensor.py\", line 680, in __array__\n",
      "    return self.numpy().astype(dtype, copy=False)\n",
      "TypeError: can't convert cuda:0 device type tensor to numpy. Use Tensor.cpu() to copy the tensor to host memory first.\n",
      "\u001b[0m"
     ]
    }
   ],
   "source": [
    "!python3 main.py --model_target XLM-R --downstream_task sentiment --attack_strategy adversarial --finetune_epoch 1 --num_sample 5 --exp_name fix-xlmr-sentiment-codemixing-ms-adv-0.6-sample5 --perturbation_technique codemixing --perturb_ratio 0.6 --perturb_lang ms"
   ]
  },
  {
   "cell_type": "code",
   "execution_count": null,
   "metadata": {},
   "outputs": [],
   "source": [
    "\n",
    "#     main(\n",
    "#         model_target=\"IndoBERT\", # IndoBERT, XLM-R, mBERT\n",
    "#         downstream_task=\"sentiment\", # sentiment, emotion\n",
    "#         attack_strategy=\"codemixing\", # codemixing, synonym replacement\n",
    "#         perturbation_technique=\"adversarial\", # adversarial, random\n",
    "#         perturb_ratio=0.2, # 0.2, 0.4, 0.6, 0.8\n",
    "#         finetune_epoch=5,\n",
    "#         num_sample=5,\n",
    "#         result_file=\"test-indobert-sentiment-codemixing-adversarial-0.2\",\n",
    "#         seed=26092020\n",
    "#     )\n",
    "    \n",
    "#     main(\n",
    "#         model_target=\"IndoBERT\", # IndoBERT, XLM-R, mBERT\n",
    "#         downstream_task=\"emotion\", # sentiment, emotion\n",
    "#         attack_strategy=\"codemixing\", # codemixing, synonym replacement\n",
    "#         perturbation_technique=\"adversarial\", # adversarial, random\n",
    "#         perturb_ratio=0.2, # 0.2, 0.4, 0.6, 0.8\n",
    "#         finetune_epoch=5,\n",
    "#         num_sample=5,\n",
    "#         result_file=\"test-indobert-emotion-codemixing-adversarial-0.2\",\n",
    "#         seed=26092020\n",
    "#     )\n",
    "    \n",
    "#     main(\n",
    "#         model_target=\"IndoBERT\", # IndoBERT, XLM-R, mBERT\n",
    "#         downstream_task=\"sentiment\", # sentiment, emotion\n",
    "#         attack_strategy=\"synonym_replacement\", # codemixing, synonym replacement\n",
    "#         perturbation_technique=\"adversarial\", # adversarial, random\n",
    "#         perturb_ratio=0.2, # 0.2, 0.4, 0.6, 0.8\n",
    "#         finetune_epoch=5,\n",
    "#         num_sample=5,\n",
    "#         result_file=\"test-indobert-sentiment-synonym_replacement-adversarial-0.2\",\n",
    "#         seed=26092020\n",
    "#     )\n",
    "    \n",
    "#     main(\n",
    "#         model_target=\"IndoBERT\", # IndoBERT, XLM-R, mBERT\n",
    "#         downstream_task=\"emotion\", # sentiment, emotion\n",
    "#         attack_strategy=\"synonym_replacement\", # codemixing, synonym replacement\n",
    "#         perturbation_technique=\"adversarial\", # adversarial, random\n",
    "#         perturb_ratio=0.2, # 0.2, 0.4, 0.6, 0.8\n",
    "#         finetune_epoch=5,\n",
    "#         num_sample=5,\n",
    "#         result_file=\"test-indobert-emotion-synonym_replacement-adversarial-0.2\",\n",
    "#         seed=26092020\n",
    "#     )\n"
   ]
  },
  {
   "cell_type": "code",
   "execution_count": 11,
   "metadata": {},
   "outputs": [
    {
     "name": "stdout",
     "output_type": "stream",
     "text": [
      "1.10.0+cu102\n"
     ]
    }
   ],
   "source": [
    "import torch\n",
    "print(torch.__version__)"
   ]
  }
 ],
 "metadata": {
  "kernelspec": {
   "display_name": "Python 3 (ipykernel)",
   "language": "python",
   "name": "python3"
  },
  "language_info": {
   "codemirror_mode": {
    "name": "ipython",
    "version": 3
   },
   "file_extension": ".py",
   "mimetype": "text/x-python",
   "name": "python",
   "nbconvert_exporter": "python",
   "pygments_lexer": "ipython3",
   "version": "3.8.10"
  }
 },
 "nbformat": 4,
 "nbformat_minor": 4
}
