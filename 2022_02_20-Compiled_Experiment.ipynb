{
 "cells": [
  {
   "cell_type": "code",
   "execution_count": 1,
   "metadata": {
    "_cell_guid": "e8f79139-a9d1-4165-bc15-afa4cffadffa",
    "_uuid": "bc3ff7e4-d6f3-4dff-adb1-2e008a297636",
    "collapsed": false,
    "jupyter": {
     "outputs_hidden": false
    },
    "tags": []
   },
   "outputs": [
    {
     "name": "stdout",
     "output_type": "stream",
     "text": [
      "Defaulting to user installation because normal site-packages is not writeable\n",
      "Requirement already satisfied: conlleval in /home/m13518040/.local/lib/python3.8/site-packages (0.2)\n",
      "WARNING:tensorflow:From /home/m13518040/.local/lib/python3.8/site-packages/tensorflow/python/compat/v2_compat.py:107: disable_resource_variables (from tensorflow.python.ops.variable_scope) is deprecated and will be removed in a future version.\n",
      "Instructions for updating:\n",
      "non-resource variables are not supported in the long term\n"
     ]
    },
    {
     "name": "stderr",
     "output_type": "stream",
     "text": [
      "[nltk_data] Downloading package stopwords to\n",
      "[nltk_data]     /home/m13518040/nltk_data...\n",
      "[nltk_data]   Package stopwords is already up-to-date!\n",
      "[nltk_data] Downloading package stopwords to\n",
      "[nltk_data]     /home/m13518040/nltk_data...\n",
      "[nltk_data]   Package stopwords is already up-to-date!\n"
     ]
    }
   ],
   "source": [
    "import os, sys\n",
    "import gc\n",
    "\n",
    "gc.collect()\n",
    "os.environ['CUDA_LAUNCH_BLOCKING'] = \"1\"\n",
    "os.environ[\"CUDA_VISIBLE_DEVICES\"] = \"0,1\"  \n",
    "\n",
    "from main import main\n",
    "\n",
    "from tqdm.notebook import tqdm\n",
    "tqdm.pandas()"
   ]
  },
  {
   "cell_type": "code",
   "execution_count": null,
   "metadata": {
    "_cell_guid": "ca6f4edd-2b8f-4a31-a38a-04f17f5ed503",
    "_uuid": "659d5919-b3ed-45a4-b635-2b7579d0f919",
    "collapsed": false,
    "jupyter": {
     "outputs_hidden": false
    },
    "tags": []
   },
   "outputs": [
    {
     "name": "stderr",
     "output_type": "stream",
     "text": [
      "2022-02-27 12:54:27.622850: W tensorflow/core/common_runtime/gpu/gpu_device.cc:1850] Cannot dlopen some GPU libraries. Please make sure the missing libraries mentioned above are installed properly if you would like to use GPU. Follow the guide at https://www.tensorflow.org/install/gpu for how to download and setup the required libraries for your platform.\n",
      "Skipping registering GPU devices...\n",
      "Some weights of BertForSequenceClassification were not initialized from the model checkpoint at indobenchmark/indobert-base-p2 and are newly initialized: ['classifier.weight', 'classifier.bias']\n",
      "You should probably TRAIN this model on a down-stream task to be able to use it for predictions and inference.\n",
      "(Epoch 1) TRAIN LOSS:1.4313 LR:0.00000300: 100%|██████████████████| 111/111 [00:24<00:00,  4.52it/s]\n"
     ]
    },
    {
     "name": "stdout",
     "output_type": "stream",
     "text": [
      "(Epoch 1) TRAIN LOSS:1.4313 ACC:0.40 F1:0.34 REC:0.36 PRE:0.41 LR:0.00000300\n"
     ]
    },
    {
     "name": "stderr",
     "output_type": "stream",
     "text": [
      "VALID LOSS:1.2297 ACC:0.54 F1:0.52 REC:0.52 PRE:0.57: 100%|█████████| 14/14 [00:02<00:00,  5.59it/s]\n"
     ]
    },
    {
     "name": "stdout",
     "output_type": "stream",
     "text": [
      "(Epoch 1) VALID LOSS:1.2297 ACC:0.54 F1:0.52 REC:0.52 PRE:0.57\n"
     ]
    },
    {
     "name": "stderr",
     "output_type": "stream",
     "text": [
      "(Epoch 2) TRAIN LOSS:1.0873 LR:0.00000300: 100%|██████████████████| 111/111 [00:24<00:00,  4.55it/s]\n"
     ]
    },
    {
     "name": "stdout",
     "output_type": "stream",
     "text": [
      "(Epoch 2) TRAIN LOSS:1.0873 ACC:0.60 F1:0.58 REC:0.58 PRE:0.60 LR:0.00000300\n"
     ]
    },
    {
     "name": "stderr",
     "output_type": "stream",
     "text": [
      "VALID LOSS:0.9515 ACC:0.62 F1:0.61 REC:0.62 PRE:0.61: 100%|█████████| 14/14 [00:02<00:00,  5.42it/s]\n"
     ]
    },
    {
     "name": "stdout",
     "output_type": "stream",
     "text": [
      "(Epoch 2) VALID LOSS:0.9515 ACC:0.62 F1:0.61 REC:0.62 PRE:0.61\n"
     ]
    },
    {
     "name": "stderr",
     "output_type": "stream",
     "text": [
      "(Epoch 3) TRAIN LOSS:0.8165 LR:0.00000300: 100%|██████████████████| 111/111 [00:24<00:00,  4.52it/s]\n"
     ]
    },
    {
     "name": "stdout",
     "output_type": "stream",
     "text": [
      "(Epoch 3) TRAIN LOSS:0.8165 ACC:0.71 F1:0.71 REC:0.71 PRE:0.72 LR:0.00000300\n"
     ]
    },
    {
     "name": "stderr",
     "output_type": "stream",
     "text": [
      "VALID LOSS:0.8281 ACC:0.68 F1:0.67 REC:0.68 PRE:0.69: 100%|█████████| 14/14 [00:02<00:00,  5.36it/s]\n"
     ]
    },
    {
     "name": "stdout",
     "output_type": "stream",
     "text": [
      "(Epoch 3) VALID LOSS:0.8281 ACC:0.68 F1:0.67 REC:0.68 PRE:0.69\n"
     ]
    },
    {
     "name": "stderr",
     "output_type": "stream",
     "text": [
      "(Epoch 4) TRAIN LOSS:0.6862 LR:0.00000300: 100%|██████████████████| 111/111 [00:24<00:00,  4.49it/s]\n"
     ]
    },
    {
     "name": "stdout",
     "output_type": "stream",
     "text": [
      "(Epoch 4) TRAIN LOSS:0.6862 ACC:0.77 F1:0.77 REC:0.77 PRE:0.78 LR:0.00000300\n"
     ]
    },
    {
     "name": "stderr",
     "output_type": "stream",
     "text": [
      "VALID LOSS:0.7716 ACC:0.71 F1:0.72 REC:0.72 PRE:0.72: 100%|█████████| 14/14 [00:02<00:00,  5.38it/s]\n"
     ]
    },
    {
     "name": "stdout",
     "output_type": "stream",
     "text": [
      "(Epoch 4) VALID LOSS:0.7716 ACC:0.71 F1:0.72 REC:0.72 PRE:0.72\n"
     ]
    },
    {
     "name": "stderr",
     "output_type": "stream",
     "text": [
      "(Epoch 5) TRAIN LOSS:0.5650 LR:0.00000300: 100%|██████████████████| 111/111 [00:24<00:00,  4.52it/s]\n"
     ]
    },
    {
     "name": "stdout",
     "output_type": "stream",
     "text": [
      "(Epoch 5) TRAIN LOSS:0.5650 ACC:0.81 F1:0.81 REC:0.81 PRE:0.82 LR:0.00000300\n"
     ]
    },
    {
     "name": "stderr",
     "output_type": "stream",
     "text": [
      "VALID LOSS:0.7707 ACC:0.70 F1:0.70 REC:0.70 PRE:0.71: 100%|█████████| 14/14 [00:02<00:00,  5.14it/s]\n"
     ]
    },
    {
     "name": "stdout",
     "output_type": "stream",
     "text": [
      "(Epoch 5) VALID LOSS:0.7707 ACC:0.70 F1:0.70 REC:0.70 PRE:0.71\n"
     ]
    },
    {
     "data": {
      "application/vnd.jupyter.widget-view+json": {
       "model_id": "72ae63f8f2e7499488bec520385edd6b",
       "version_major": 2,
       "version_minor": 0
      },
      "text/plain": [
       "Pandas Apply:   0%|          | 0/5 [00:00<?, ?it/s]"
      ]
     },
     "metadata": {},
     "output_type": "display_data"
    },
    {
     "name": "stderr",
     "output_type": "stream",
     "text": [
      "2022-02-27 13:04:09.703630: W tensorflow/core/common_runtime/gpu/gpu_device.cc:1850] Cannot dlopen some GPU libraries. Please make sure the missing libraries mentioned above are installed properly if you would like to use GPU. Follow the guide at https://www.tensorflow.org/install/gpu for how to download and setup the required libraries for your platform.\n",
      "Skipping registering GPU devices...\n",
      "Some weights of BertForSequenceClassification were not initialized from the model checkpoint at indobenchmark/indobert-base-p2 and are newly initialized: ['classifier.weight', 'classifier.bias']\n",
      "You should probably TRAIN this model on a down-stream task to be able to use it for predictions and inference.\n",
      "(Epoch 1) TRAIN LOSS:0.3491 LR:0.00000300: 100%|██████████████████| 344/344 [01:20<00:00,  4.25it/s]\n"
     ]
    },
    {
     "name": "stdout",
     "output_type": "stream",
     "text": [
      "(Epoch 1) TRAIN LOSS:0.3491 ACC:0.87 F1:0.82 REC:0.79 PRE:0.85 LR:0.00000300\n"
     ]
    },
    {
     "name": "stderr",
     "output_type": "stream",
     "text": [
      "VALID LOSS:0.1921 ACC:0.93 F1:0.90 REC:0.89 PRE:0.90: 100%|█████████| 40/40 [00:04<00:00,  8.08it/s]\n"
     ]
    },
    {
     "name": "stdout",
     "output_type": "stream",
     "text": [
      "(Epoch 1) VALID LOSS:0.1921 ACC:0.93 F1:0.90 REC:0.89 PRE:0.90\n"
     ]
    },
    {
     "name": "stderr",
     "output_type": "stream",
     "text": [
      "(Epoch 2) TRAIN LOSS:0.1601 LR:0.00000300: 100%|██████████████████| 344/344 [01:20<00:00,  4.25it/s]\n"
     ]
    },
    {
     "name": "stdout",
     "output_type": "stream",
     "text": [
      "(Epoch 2) TRAIN LOSS:0.1601 ACC:0.95 F1:0.93 REC:0.92 PRE:0.93 LR:0.00000300\n"
     ]
    },
    {
     "name": "stderr",
     "output_type": "stream",
     "text": [
      "VALID LOSS:0.1859 ACC:0.93 F1:0.90 REC:0.90 PRE:0.91: 100%|█████████| 40/40 [00:05<00:00,  7.98it/s]\n"
     ]
    },
    {
     "name": "stdout",
     "output_type": "stream",
     "text": [
      "(Epoch 2) VALID LOSS:0.1859 ACC:0.93 F1:0.90 REC:0.90 PRE:0.91\n"
     ]
    },
    {
     "name": "stderr",
     "output_type": "stream",
     "text": [
      "(Epoch 3) TRAIN LOSS:0.1229 LR:0.00000300: 100%|██████████████████| 344/344 [01:20<00:00,  4.28it/s]\n"
     ]
    },
    {
     "name": "stdout",
     "output_type": "stream",
     "text": [
      "(Epoch 3) TRAIN LOSS:0.1229 ACC:0.96 F1:0.95 REC:0.94 PRE:0.95 LR:0.00000300\n"
     ]
    },
    {
     "name": "stderr",
     "output_type": "stream",
     "text": [
      "VALID LOSS:0.1773 ACC:0.93 F1:0.90 REC:0.89 PRE:0.91: 100%|█████████| 40/40 [00:05<00:00,  7.45it/s]\n"
     ]
    },
    {
     "name": "stdout",
     "output_type": "stream",
     "text": [
      "(Epoch 3) VALID LOSS:0.1773 ACC:0.93 F1:0.90 REC:0.89 PRE:0.91\n"
     ]
    },
    {
     "name": "stderr",
     "output_type": "stream",
     "text": [
      "(Epoch 4) TRAIN LOSS:0.0936 LR:0.00000300: 100%|██████████████████| 344/344 [01:21<00:00,  4.24it/s]\n"
     ]
    },
    {
     "name": "stdout",
     "output_type": "stream",
     "text": [
      "(Epoch 4) TRAIN LOSS:0.0936 ACC:0.97 F1:0.96 REC:0.96 PRE:0.97 LR:0.00000300\n"
     ]
    },
    {
     "name": "stderr",
     "output_type": "stream",
     "text": [
      "VALID LOSS:0.1876 ACC:0.93 F1:0.91 REC:0.89 PRE:0.92: 100%|█████████| 40/40 [00:04<00:00,  8.10it/s]\n"
     ]
    },
    {
     "name": "stdout",
     "output_type": "stream",
     "text": [
      "(Epoch 4) VALID LOSS:0.1876 ACC:0.93 F1:0.91 REC:0.89 PRE:0.92\n"
     ]
    },
    {
     "name": "stderr",
     "output_type": "stream",
     "text": [
      "(Epoch 5) TRAIN LOSS:0.0694 LR:0.00000300:  49%|████████▊         | 169/344 [00:40<00:40,  4.30it/s]"
     ]
    },
    {
     "data": {
      "application/vnd.jupyter.widget-view+json": {
       "model_id": "638aa4682a3040d38d89eaea575e33cf",
       "version_major": 2,
       "version_minor": 0
      },
      "text/plain": [
       "Pandas Apply:   0%|          | 0/5 [00:00<?, ?it/s]"
      ]
     },
     "metadata": {},
     "output_type": "display_data"
    }
   ],
   "source": [
    "if __name__ == \"__main__\":\n",
    "    main(\n",
    "        model_target=\"IndoBERT\", # IndoBERT, XLM-R, mBERT\n",
    "        downstream_task=\"emotion\", # sentiment, emotion\n",
    "        attack_strategy=\"synonym_replacement\", # codemixing, synonym replacement\n",
    "        perturbation_technique=\"adversarial\", # adversarial, random\n",
    "        perturb_ratio=0.2, # 0.2, 0.4, 0.6, 0.8\n",
    "        finetune_epoch=5,\n",
    "        num_sample=5,\n",
    "        result_file=\"test-indobert-emotion-synonym_replacement-adversarial-0.2\",\n",
    "        seed=26092020\n",
    "    )\n",
    "    \n",
    "    main(\n",
    "        model_target=\"IndoBERT\", # IndoBERT, XLM-R, mBERT\n",
    "        downstream_task=\"sentiment\", # sentiment, emotion\n",
    "        attack_strategy=\"codemixing\", # codemixing, synonym replacement\n",
    "        perturbation_technique=\"adversarial\", # adversarial, random\n",
    "        perturb_ratio=0.2, # 0.2, 0.4, 0.6, 0.8\n",
    "        finetune_epoch=5,\n",
    "        num_sample=5,\n",
    "        result_file=\"test-indobert-sentiment-codemixing-adversarial-0.2\",\n",
    "        seed=26092020\n",
    "    )\n",
    "    \n",
    "    main(\n",
    "        model_target=\"IndoBERT\", # IndoBERT, XLM-R, mBERT\n",
    "        downstream_task=\"emotion\", # sentiment, emotion\n",
    "        attack_strategy=\"codemixing\", # codemixing, synonym replacement\n",
    "        perturbation_technique=\"adversarial\", # adversarial, random\n",
    "        perturb_ratio=0.2, # 0.2, 0.4, 0.6, 0.8\n",
    "        finetune_epoch=5,\n",
    "        num_sample=5,\n",
    "        result_file=\"test-indobert-emotion-codemixing-adversarial-0.2\",\n",
    "        seed=26092020\n",
    "    )\n",
    "    \n",
    "    main(\n",
    "        model_target=\"IndoBERT\", # IndoBERT, XLM-R, mBERT\n",
    "        downstream_task=\"sentiment\", # sentiment, emotion\n",
    "        attack_strategy=\"synonym_replacement\", # codemixing, synonym replacement\n",
    "        perturbation_technique=\"adversarial\", # adversarial, random\n",
    "        perturb_ratio=0.2, # 0.2, 0.4, 0.6, 0.8\n",
    "        finetune_epoch=5,\n",
    "        num_sample=5,\n",
    "        result_file=\"test-indobert-sentiment-synonym_replacement-adversarial-0.2\",\n",
    "        seed=26092020\n",
    "    )\n",
    "    \n",
    "    main(\n",
    "        model_target=\"IndoBERT\", # IndoBERT, XLM-R, mBERT\n",
    "        downstream_task=\"emotion\", # sentiment, emotion\n",
    "        attack_strategy=\"synonym_replacement\", # codemixing, synonym replacement\n",
    "        perturbation_technique=\"adversarial\", # adversarial, random\n",
    "        perturb_ratio=0.2, # 0.2, 0.4, 0.6, 0.8\n",
    "        finetune_epoch=5,\n",
    "        num_sample=5,\n",
    "        result_file=\"test-indobert-emotion-synonym_replacement-adversarial-0.2\",\n",
    "        seed=26092020\n",
    "    )\n"
   ]
  },
  {
   "cell_type": "code",
   "execution_count": null,
   "metadata": {},
   "outputs": [],
   "source": []
  },
  {
   "cell_type": "code",
   "execution_count": null,
   "metadata": {},
   "outputs": [],
   "source": []
  }
 ],
 "metadata": {
  "kernelspec": {
   "display_name": "Python 3 (ipykernel)",
   "language": "python",
   "name": "python3"
  },
  "language_info": {
   "codemirror_mode": {
    "name": "ipython",
    "version": 3
   },
   "file_extension": ".py",
   "mimetype": "text/x-python",
   "name": "python",
   "nbconvert_exporter": "python",
   "pygments_lexer": "ipython3",
   "version": "3.8.10"
  }
 },
 "nbformat": 4,
 "nbformat_minor": 4
}
