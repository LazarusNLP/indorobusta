{
 "cells": [
  {
   "cell_type": "code",
   "execution_count": 1,
   "metadata": {
    "_cell_guid": "e8f79139-a9d1-4165-bc15-afa4cffadffa",
    "_uuid": "bc3ff7e4-d6f3-4dff-adb1-2e008a297636",
    "collapsed": false,
    "jupyter": {
     "outputs_hidden": false
    },
    "tags": []
   },
   "outputs": [
    {
     "name": "stdout",
     "output_type": "stream",
     "text": [
      "Defaulting to user installation because normal site-packages is not writeable\n",
      "Requirement already satisfied: conlleval in /home/m13518040/.local/lib/python3.8/site-packages (0.2)\n",
      "WARNING:tensorflow:From /home/m13518040/.local/lib/python3.8/site-packages/tensorflow/python/compat/v2_compat.py:107: disable_resource_variables (from tensorflow.python.ops.variable_scope) is deprecated and will be removed in a future version.\n",
      "Instructions for updating:\n",
      "non-resource variables are not supported in the long term\n"
     ]
    },
    {
     "name": "stderr",
     "output_type": "stream",
     "text": [
      "[nltk_data] Downloading package stopwords to\n",
      "[nltk_data]     /home/m13518040/nltk_data...\n",
      "[nltk_data]   Package stopwords is already up-to-date!\n",
      "[nltk_data] Downloading package stopwords to\n",
      "[nltk_data]     /home/m13518040/nltk_data...\n",
      "[nltk_data]   Package stopwords is already up-to-date!\n"
     ]
    }
   ],
   "source": [
    "import os, sys\n",
    "import gc\n",
    "\n",
    "gc.collect()\n",
    "os.environ['CUDA_LAUNCH_BLOCKING'] = \"1\"\n",
    "os.environ[\"CUDA_VISIBLE_DEVICES\"] = \"0,1\"  \n",
    "\n",
    "from main import main\n",
    "\n",
    "from tqdm.notebook import tqdm\n",
    "tqdm.pandas()"
   ]
  },
  {
   "cell_type": "code",
   "execution_count": null,
   "metadata": {
    "_cell_guid": "ca6f4edd-2b8f-4a31-a38a-04f17f5ed503",
    "_uuid": "659d5919-b3ed-45a4-b635-2b7579d0f919",
    "collapsed": false,
    "jupyter": {
     "outputs_hidden": false
    },
    "tags": []
   },
   "outputs": [
    {
     "name": "stderr",
     "output_type": "stream",
     "text": [
      "2022-02-27 12:54:27.622850: W tensorflow/core/common_runtime/gpu/gpu_device.cc:1850] Cannot dlopen some GPU libraries. Please make sure the missing libraries mentioned above are installed properly if you would like to use GPU. Follow the guide at https://www.tensorflow.org/install/gpu for how to download and setup the required libraries for your platform.\n",
      "Skipping registering GPU devices...\n"
     ]
    }
   ],
   "source": [
    "if __name__ == \"__main__\":\n",
    "    main(\n",
    "        model_target=\"IndoBERT\", # IndoBERT, XLM-R, mBERT\n",
    "        downstream_task=\"emotion\", # sentiment, emotion\n",
    "        attack_strategy=\"synonym_replacement\", # codemixing, synonym replacement\n",
    "        perturbation_technique=\"adversarial\", # adversarial, random\n",
    "        perturb_ratio=0.2, # 0.2, 0.4, 0.6, 0.8\n",
    "        finetune_epoch=5,\n",
    "        num_sample=5,\n",
    "        result_file=\"test-indobert-emotion-synonym_replacement-adversarial-0.2\",\n",
    "        seed=26092020\n",
    "    )\n",
    "    \n",
    "    main(\n",
    "        model_target=\"IndoBERT\", # IndoBERT, XLM-R, mBERT\n",
    "        downstream_task=\"sentiment\", # sentiment, emotion\n",
    "        attack_strategy=\"codemixing\", # codemixing, synonym replacement\n",
    "        perturbation_technique=\"adversarial\", # adversarial, random\n",
    "        perturb_ratio=0.2, # 0.2, 0.4, 0.6, 0.8\n",
    "        finetune_epoch=5,\n",
    "        num_sample=5,\n",
    "        result_file=\"test-indobert-sentiment-codemixing-adversarial-0.2\",\n",
    "        seed=26092020\n",
    "    )\n",
    "    \n",
    "    main(\n",
    "        model_target=\"IndoBERT\", # IndoBERT, XLM-R, mBERT\n",
    "        downstream_task=\"emotion\", # sentiment, emotion\n",
    "        attack_strategy=\"codemixing\", # codemixing, synonym replacement\n",
    "        perturbation_technique=\"adversarial\", # adversarial, random\n",
    "        perturb_ratio=0.2, # 0.2, 0.4, 0.6, 0.8\n",
    "        finetune_epoch=5,\n",
    "        num_sample=5,\n",
    "        result_file=\"test-indobert-emotion-codemixing-adversarial-0.2\",\n",
    "        seed=26092020\n",
    "    )\n",
    "    \n",
    "    main(\n",
    "        model_target=\"IndoBERT\", # IndoBERT, XLM-R, mBERT\n",
    "        downstream_task=\"sentiment\", # sentiment, emotion\n",
    "        attack_strategy=\"synonym_replacement\", # codemixing, synonym replacement\n",
    "        perturbation_technique=\"adversarial\", # adversarial, random\n",
    "        perturb_ratio=0.2, # 0.2, 0.4, 0.6, 0.8\n",
    "        finetune_epoch=5,\n",
    "        num_sample=5,\n",
    "        result_file=\"test-indobert-sentiment-synonym_replacement-adversarial-0.2\",\n",
    "        seed=26092020\n",
    "    )\n",
    "    \n",
    "    main(\n",
    "        model_target=\"IndoBERT\", # IndoBERT, XLM-R, mBERT\n",
    "        downstream_task=\"emotion\", # sentiment, emotion\n",
    "        attack_strategy=\"synonym_replacement\", # codemixing, synonym replacement\n",
    "        perturbation_technique=\"adversarial\", # adversarial, random\n",
    "        perturb_ratio=0.2, # 0.2, 0.4, 0.6, 0.8\n",
    "        finetune_epoch=5,\n",
    "        num_sample=5,\n",
    "        result_file=\"test-indobert-emotion-synonym_replacement-adversarial-0.2\",\n",
    "        seed=26092020\n",
    "    )\n"
   ]
  },
  {
   "cell_type": "code",
   "execution_count": null,
   "metadata": {},
   "outputs": [],
   "source": []
  },
  {
   "cell_type": "code",
   "execution_count": null,
   "metadata": {},
   "outputs": [],
   "source": []
  }
 ],
 "metadata": {
  "kernelspec": {
   "display_name": "Python 3 (ipykernel)",
   "language": "python",
   "name": "python3"
  },
  "language_info": {
   "codemirror_mode": {
    "name": "ipython",
    "version": 3
   },
   "file_extension": ".py",
   "mimetype": "text/x-python",
   "name": "python",
   "nbconvert_exporter": "python",
   "pygments_lexer": "ipython3",
   "version": "3.8.10"
  }
 },
 "nbformat": 4,
 "nbformat_minor": 4
}
