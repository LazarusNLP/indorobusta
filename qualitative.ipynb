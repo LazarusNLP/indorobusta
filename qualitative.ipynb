{
 "cells": [
  {
   "cell_type": "code",
   "execution_count": 2,
   "metadata": {},
   "outputs": [],
   "source": [
    "import pandas as pd\n",
    "import os\n",
    "from icecream import ic\n",
    "import numpy as np\n",
    "import math\n",
    "import ast\n",
    "import itertools"
   ]
  },
  {
   "cell_type": "code",
   "execution_count": 39,
   "metadata": {},
   "outputs": [],
   "source": [
    "# def wc():\n",
    "\n",
    "\n",
    "\n",
    "# seeds = [42, 26092020, 24032022]    \n",
    "path_test = str(os.getcwd()) + \"/result/seed\" + str(42) + \"/\" + \"test\" + \"/\"\n",
    "\n",
    "dir_list_test = [f for f in os.listdir(path_test)]\n",
    "\n",
    "# for f in dir_list_test:\n",
    "#     if \"su\" in f or \"en\" in f or \"jw\" in f:\n",
    "#         print(f)\n",
    "\n",
    "# dir_list_test = [\"indobert-emotion-codemixing-en-adv-0.2-test.csv\"]\n",
    "random.seed(42)\n",
    "for file in dir_list_test:\n",
    "    if \".csv\" in file:\n",
    "        df_first_row = pd.read_csv(path_test+file).iloc[0]\n",
    "        parsed_filename = file.split(\"-\")\n",
    "        # print(parsed_filename)\n",
    "        if parsed_filename[3] in ([\"en\", \"su\", \"jw\"]):\n",
    "            # print(\"a\")\n",
    "            # print(parsed_filename)\n",
    "            orig_filename = \"-\".join(parsed_filename)\n",
    "            # print(orig_filename)\n",
    "            path = str(os.getcwd()) + \"/result/seed\" + str(42) + \"/\" + \"test\" + \"/\"+orig_filename\n",
    "\n",
    "            df = pd.read_csv(path)\n",
    "            if parsed_filename[1] == \"emotion\":\n",
    "                df = df[['tweet', 'perturbed_text', \"perturbed_semantic_sim\", \"translated_word(s)\"]]\n",
    "            else:\n",
    "                df = df[['text', 'perturbed_text', \"perturbed_semantic_sim\", \"translated_word(s)\"]]\n",
    "            idx_sample = sorted(random.sample(range(1, len(df)), 50))\n",
    "            # print(idx_sample)\n",
    "            df = df.iloc[idx_sample]\n",
    "            header_list = ['text', 'perturbed_text', \"perturbed_semantic_sim\", \"translated_word(s)\", \"Samca\", \"Genta\", \"Farid\"]\n",
    "            df = df.reindex(columns = header_list)\n",
    "            # print(df)\n",
    "            # print(df.iloc[idx_sample])\n",
    "            df.to_csv(str(os.getcwd()) + \"/qualitative/\" + orig_filename, index=False)\n"
   ]
  },
  {
   "cell_type": "code",
   "execution_count": 49,
   "metadata": {},
   "outputs": [
    {
     "ename": "TypeError",
     "evalue": "Index does not support mutable operations",
     "output_type": "error",
     "traceback": [
      "\u001b[1;31m---------------------------------------------------------------------------\u001b[0m",
      "\u001b[1;31mTypeError\u001b[0m                                 Traceback (most recent call last)",
      "\u001b[1;32m<ipython-input-49-58a730d8c900>\u001b[0m in \u001b[0;36m<module>\u001b[1;34m\u001b[0m\n\u001b[0;32m      7\u001b[0m \u001b[0midx_sample\u001b[0m \u001b[1;33m=\u001b[0m \u001b[0msorted\u001b[0m\u001b[1;33m(\u001b[0m\u001b[0mrandom\u001b[0m\u001b[1;33m.\u001b[0m\u001b[0msample\u001b[0m\u001b[1;33m(\u001b[0m\u001b[0mrange\u001b[0m\u001b[1;33m(\u001b[0m\u001b[1;36m1\u001b[0m\u001b[1;33m,\u001b[0m \u001b[0mlen\u001b[0m\u001b[1;33m(\u001b[0m\u001b[0mdf\u001b[0m\u001b[1;33m)\u001b[0m\u001b[1;33m)\u001b[0m\u001b[1;33m,\u001b[0m \u001b[1;36m50\u001b[0m\u001b[1;33m)\u001b[0m\u001b[1;33m)\u001b[0m\u001b[1;33m\u001b[0m\u001b[1;33m\u001b[0m\u001b[0m\n\u001b[0;32m      8\u001b[0m \u001b[1;31m# header_list = ['text', 'perturbed_text', \"perturbed_semantic_sim\", \"translated_word(s)\", \"Samca\", \"Genta\", \"Farid\"]\u001b[0m\u001b[1;33m\u001b[0m\u001b[1;33m\u001b[0m\u001b[1;33m\u001b[0m\u001b[0m\n\u001b[1;32m----> 9\u001b[1;33m \u001b[0mdf\u001b[0m\u001b[1;33m.\u001b[0m\u001b[0mcolumns\u001b[0m\u001b[1;33m[\u001b[0m\u001b[1;36m0\u001b[0m\u001b[1;33m]\u001b[0m \u001b[1;33m=\u001b[0m \u001b[1;34m\"text\"\u001b[0m\u001b[1;33m\u001b[0m\u001b[1;33m\u001b[0m\u001b[0m\n\u001b[0m\u001b[0;32m     10\u001b[0m \u001b[1;31m# df = df.reindex(columns = header_list)\u001b[0m\u001b[1;33m\u001b[0m\u001b[1;33m\u001b[0m\u001b[1;33m\u001b[0m\u001b[0m\n\u001b[0;32m     11\u001b[0m \u001b[0mdf\u001b[0m\u001b[1;33m.\u001b[0m\u001b[0miloc\u001b[0m\u001b[1;33m[\u001b[0m\u001b[0midx_sample\u001b[0m\u001b[1;33m]\u001b[0m\u001b[1;33m\u001b[0m\u001b[1;33m\u001b[0m\u001b[0m\n",
      "\u001b[1;32m~\\anaconda3\\lib\\site-packages\\pandas\\core\\indexes\\base.py\u001b[0m in \u001b[0;36m__setitem__\u001b[1;34m(self, key, value)\u001b[0m\n\u001b[0;32m   4275\u001b[0m     \u001b[1;33m@\u001b[0m\u001b[0mfinal\u001b[0m\u001b[1;33m\u001b[0m\u001b[1;33m\u001b[0m\u001b[0m\n\u001b[0;32m   4276\u001b[0m     \u001b[1;32mdef\u001b[0m \u001b[0m__setitem__\u001b[0m\u001b[1;33m(\u001b[0m\u001b[0mself\u001b[0m\u001b[1;33m,\u001b[0m \u001b[0mkey\u001b[0m\u001b[1;33m,\u001b[0m \u001b[0mvalue\u001b[0m\u001b[1;33m)\u001b[0m\u001b[1;33m:\u001b[0m\u001b[1;33m\u001b[0m\u001b[1;33m\u001b[0m\u001b[0m\n\u001b[1;32m-> 4277\u001b[1;33m         \u001b[1;32mraise\u001b[0m \u001b[0mTypeError\u001b[0m\u001b[1;33m(\u001b[0m\u001b[1;34m\"Index does not support mutable operations\"\u001b[0m\u001b[1;33m)\u001b[0m\u001b[1;33m\u001b[0m\u001b[1;33m\u001b[0m\u001b[0m\n\u001b[0m\u001b[0;32m   4278\u001b[0m \u001b[1;33m\u001b[0m\u001b[0m\n\u001b[0;32m   4279\u001b[0m     \u001b[1;32mdef\u001b[0m \u001b[0m__getitem__\u001b[0m\u001b[1;33m(\u001b[0m\u001b[0mself\u001b[0m\u001b[1;33m,\u001b[0m \u001b[0mkey\u001b[0m\u001b[1;33m)\u001b[0m\u001b[1;33m:\u001b[0m\u001b[1;33m\u001b[0m\u001b[1;33m\u001b[0m\u001b[0m\n",
      "\u001b[1;31mTypeError\u001b[0m: Index does not support mutable operations"
     ]
    }
   ],
   "source": [
    "filename = \"indobert-emotion-codemixing-en-adv-0.2-test.csv\"\n",
    "path = str(os.getcwd()) + \"/result/seed\" + str(42) + \"/\" + \"test\" + \"/\"+filename\n",
    "\n",
    "df = pd.read_csv(path)\n",
    "df = df.rename({'tweet': 'text', 'b': 'Y'}, axis=1)\n",
    "df = df[['tweet', 'perturbed_text', \"perturbed_semantic_sim\", \"translated_word(s)\"]]\n",
    "random.seed(42)\n",
    "idx_sample = sorted(random.sample(range(1, len(df)), 50))\n",
    "# header_list = ['text', 'perturbed_text', \"perturbed_semantic_sim\", \"translated_word(s)\", \"Samca\", \"Genta\", \"Farid\"]\n",
    "df.columns[0] = \"text\"\n",
    "# df = df.reindex(columns = header_list)\n",
    "df.iloc[idx_sample]\n",
    "\n",
    "# df.sample(50)\n",
    "# print(len(df))"
   ]
  },
  {
   "cell_type": "code",
   "execution_count": 22,
   "metadata": {},
   "outputs": [
    {
     "data": {
      "text/plain": [
       "[4,\n",
       " 13,\n",
       " 14,\n",
       " 16,\n",
       " 17,\n",
       " 45,\n",
       " 48,\n",
       " 50,\n",
       " 53,\n",
       " 58,\n",
       " 72,\n",
       " 80,\n",
       " 82,\n",
       " 102,\n",
       " 111,\n",
       " 112,\n",
       " 113,\n",
       " 115,\n",
       " 120,\n",
       " 126,\n",
       " 141,\n",
       " 143,\n",
       " 173,\n",
       " 175,\n",
       " 177,\n",
       " 184,\n",
       " 195,\n",
       " 215,\n",
       " 217,\n",
       " 230,\n",
       " 259,\n",
       " 280,\n",
       " 288,\n",
       " 302,\n",
       " 303,\n",
       " 309,\n",
       " 310,\n",
       " 328,\n",
       " 333,\n",
       " 347,\n",
       " 358,\n",
       " 360,\n",
       " 367,\n",
       " 378,\n",
       " 380,\n",
       " 389,\n",
       " 391,\n",
       " 413,\n",
       " 415,\n",
       " 434]"
      ]
     },
     "execution_count": 22,
     "metadata": {},
     "output_type": "execute_result"
    }
   ],
   "source": [
    "import random\n",
    "\n",
    "random.seed(42)\n",
    "idx_sample = sorted(random.sample(range(1, len(df)), 50))\n",
    "idx_sample"
   ]
  }
 ],
 "metadata": {
  "kernelspec": {
   "display_name": "Python 3.8.8 ('base')",
   "language": "python",
   "name": "python3"
  },
  "language_info": {
   "codemirror_mode": {
    "name": "ipython",
    "version": 3
   },
   "file_extension": ".py",
   "mimetype": "text/x-python",
   "name": "python",
   "nbconvert_exporter": "python",
   "pygments_lexer": "ipython3",
   "version": "3.8.8"
  },
  "orig_nbformat": 4,
  "vscode": {
   "interpreter": {
    "hash": "dc07d24e2f18896857f0b2a651fe84ba40ce7b297e58d8804a308c8039f752a6"
   }
  }
 },
 "nbformat": 4,
 "nbformat_minor": 2
}
